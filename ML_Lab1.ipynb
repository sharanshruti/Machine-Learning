{
 "cells": [
  {
   "cell_type": "code",
   "execution_count": 23,
   "id": "b7f9d308",
   "metadata": {},
   "outputs": [
    {
     "data": {
      "text/plain": [
       "array([0, 1, 5, 0, 1, 5, 0, 1, 5, 0, 1, 5, 0, 1, 5, 0, 1, 5, 0, 1, 5, 0,\n",
       "       1, 5, 0, 1, 5, 0, 1, 5])"
      ]
     },
     "execution_count": 23,
     "metadata": {},
     "output_type": "execute_result"
    }
   ],
   "source": [
    "#Create an array with 10 0s,1s and 5s\n",
    "import numpy as np\n",
    "a = np.array([0,1,5]*10)\n",
    "a"
   ]
  },
  {
   "cell_type": "code",
   "execution_count": 24,
   "id": "cd6dbe8b",
   "metadata": {},
   "outputs": [
    {
     "name": "stdout",
     "output_type": "stream",
     "text": [
      "Array of even integers between 10 and 50: [10 12 14 16 18 20 22 24 26 28 30 32 34 36 38 40 42 44 46 48 50]\n"
     ]
    }
   ],
   "source": [
    "#create an array of all even integers between 10 and 50\n",
    "b = np.arange(10,51,2)\n",
    "print(\"Array of even integers between 10 and 50:\",b)"
   ]
  },
  {
   "cell_type": "code",
   "execution_count": 25,
   "id": "8f770757",
   "metadata": {},
   "outputs": [
    {
     "data": {
      "text/plain": [
       "array([[0.04555199, 0.14259014, 0.19191278, 0.99103377, 0.55359829,\n",
       "        0.30080495, 0.22035348, 0.13090411, 0.12346974, 0.65539945],\n",
       "       [0.33780021, 0.50866723, 0.97284391, 0.54683455, 0.12372316,\n",
       "        0.41666731, 0.61070326, 0.83419888, 0.7318232 , 0.89436771],\n",
       "       [0.00325791, 0.05562749, 0.43583678, 0.22183837, 0.86492835,\n",
       "        0.82778764, 0.02444346, 0.9306217 , 0.87974883, 0.23997274],\n",
       "       [0.67168583, 0.23787271, 0.773355  , 0.29416647, 0.9622893 ,\n",
       "        0.2030549 , 0.7745085 , 0.84214872, 0.35635535, 0.75848215],\n",
       "       [0.18841827, 0.05123923, 0.2999166 , 0.46731806, 0.50368296,\n",
       "        0.22001819, 0.01313145, 0.7168245 , 0.92005372, 0.06128832],\n",
       "       [0.3564381 , 0.23561444, 0.47879893, 0.30248845, 0.20683694,\n",
       "        0.22472362, 0.7132456 , 0.10923328, 0.57793416, 0.67539255],\n",
       "       [0.41444845, 0.76884671, 0.58916966, 0.80913234, 0.00987534,\n",
       "        0.79227123, 0.36542588, 0.18214177, 0.51488147, 0.40815579],\n",
       "       [0.256366  , 0.55730578, 0.68893902, 0.2991982 , 0.58637869,\n",
       "        0.3281897 , 0.07571879, 0.50235429, 0.64712188, 0.73393569],\n",
       "       [0.89332386, 0.39273667, 0.34581481, 0.59155075, 0.91418725,\n",
       "        0.20798048, 0.23552846, 0.11761521, 0.99370521, 0.38509727],\n",
       "       [0.73113947, 0.352877  , 0.91729307, 0.49515065, 0.14667832,\n",
       "        0.80379637, 0.30839391, 0.6027874 , 0.90474343, 0.32771247]])"
      ]
     },
     "execution_count": 25,
     "metadata": {},
     "output_type": "execute_result"
    }
   ],
   "source": [
    "#generating 10*10 matrix with random numbers between 0 and 1.\n",
    "from numpy import random\n",
    "c = np.random.rand(10,10)\n",
    "c"
   ]
  },
  {
   "cell_type": "code",
   "execution_count": 26,
   "id": "f0987ab6",
   "metadata": {},
   "outputs": [
    {
     "data": {
      "text/plain": [
       "(10, 10)"
      ]
     },
     "execution_count": 26,
     "metadata": {},
     "output_type": "execute_result"
    }
   ],
   "source": [
    "np.shape(c)"
   ]
  },
  {
   "cell_type": "code",
   "execution_count": 27,
   "id": "89df0a42",
   "metadata": {},
   "outputs": [
    {
     "name": "stdout",
     "output_type": "stream",
     "text": [
      "Content of the file after loading it:\n",
      "[[0.04555199 0.14259014 0.19191278 0.99103377 0.55359829 0.30080495\n",
      "  0.22035348 0.13090411 0.12346974 0.65539945]\n",
      " [0.33780021 0.50866723 0.97284391 0.54683455 0.12372316 0.41666731\n",
      "  0.61070326 0.83419888 0.7318232  0.89436771]\n",
      " [0.00325791 0.05562749 0.43583678 0.22183837 0.86492835 0.82778764\n",
      "  0.02444346 0.9306217  0.87974883 0.23997274]\n",
      " [0.67168583 0.23787271 0.773355   0.29416647 0.9622893  0.2030549\n",
      "  0.7745085  0.84214872 0.35635535 0.75848215]\n",
      " [0.18841827 0.05123923 0.2999166  0.46731806 0.50368296 0.22001819\n",
      "  0.01313145 0.7168245  0.92005372 0.06128832]\n",
      " [0.3564381  0.23561444 0.47879893 0.30248845 0.20683694 0.22472362\n",
      "  0.7132456  0.10923328 0.57793416 0.67539255]\n",
      " [0.41444845 0.76884671 0.58916966 0.80913234 0.00987534 0.79227123\n",
      "  0.36542588 0.18214177 0.51488147 0.40815579]\n",
      " [0.256366   0.55730578 0.68893902 0.2991982  0.58637869 0.3281897\n",
      "  0.07571879 0.50235429 0.64712188 0.73393569]\n",
      " [0.89332386 0.39273667 0.34581481 0.59155075 0.91418725 0.20798048\n",
      "  0.23552846 0.11761521 0.99370521 0.38509727]\n",
      " [0.73113947 0.352877   0.91729307 0.49515065 0.14667832 0.80379637\n",
      "  0.30839391 0.6027874  0.90474343 0.32771247]]\n"
     ]
    }
   ],
   "source": [
    "#using numpy to save the matrix in a file and load it\n",
    "np.savetxt('file.txt',c)\n",
    "print(\"Content of the file after loading it:\")\n",
    "content = np.loadtxt('file.txt')\n",
    "print(content)\n"
   ]
  },
  {
   "cell_type": "code",
   "execution_count": 28,
   "id": "7b9ff085",
   "metadata": {},
   "outputs": [
    {
     "name": "stdout",
     "output_type": "stream",
     "text": [
      "Image shape: (1080, 1920, 3)\n",
      "Reshaping to 2D array: (1080, 5760)\n",
      "Image shape of loaded Image : (1080, 1920, 3)\n",
      "\n",
      "\n",
      "Yes The loaded matrice from CSV file is same as original image matrice\n"
     ]
    }
   ],
   "source": [
    "#import required libraries\n",
    "import numpy as np\n",
    "import matplotlib.image as img\n",
    "import pandas as pd\n",
    "\n",
    "# read an image\n",
    "imageMat = img.imread('w31.jpg')\n",
    "print(\"Image shape:\",imageMat.shape)\n",
    "\n",
    "# if image is colored (RGB)\n",
    "if(imageMat.shape[2] == 3):\n",
    "    imageMat_reshape = imageMat.reshape(imageMat.shape[0],-1)\n",
    "    print(\"Reshaping to 2D array:\",imageMat_reshape.shape)\n",
    "\n",
    "# if image is grayscale\n",
    "else:\n",
    "# remain as it is\n",
    "    imageMat_reshape = imageMat\n",
    "\n",
    "# converting it to dataframe.\n",
    "mat_df = pd.DataFrame(imageMat_reshape)\n",
    "\n",
    "# exporting dataframe to CSV file.\n",
    "mat_df.to_csv('file1.csv',header = None,index = None)\n",
    "\n",
    "# retrieving dataframe from CSV file\n",
    "loaded_df = pd.read_csv('file1.csv',sep = ',',header = None)\n",
    "# getting matrice values.\n",
    "loaded_2D_mat = loaded_df.values\n",
    "\n",
    "# reshaping it to 3D matrice\n",
    "loaded_mat = loaded_2D_mat.reshape(loaded_2D_mat.shape[0],loaded_2D_mat.shape[1] // imageMat.shape[2],imageMat.shape[2])\n",
    "\n",
    "print(\"Image shape of loaded Image :\",loaded_mat.shape)\n",
    "\n",
    "# check if both matrice have same shape or not\n",
    "if((imageMat == loaded_mat).all()):\n",
    "    print(\"\\n\\nYes\",\"The loaded matrice from CSV file is same as original image matrice\")\n"
   ]
  },
  {
   "cell_type": "code",
   "execution_count": 29,
   "id": "1c488dda",
   "metadata": {},
   "outputs": [
    {
     "name": "stdout",
     "output_type": "stream",
     "text": [
      "Content of the file(originally):\n",
      "       2   3   5  8  9  11  14  15  17  15.1  ...  5.103  0.84  0.85  2.64  \\\n",
      "0     0   1   3  3  4   6   6   7   9     6  ...      7     8     8    10   \n",
      "1     3   4   6  3  4   6   3   4   6     1  ...      4     7     7     9   \n",
      "2     5   6   8  4  5   7   2   3   5     1  ...      4     0     0     2   \n",
      "3     4   5   7  3  4   6   1   2   4     1  ...     11     1     1     3   \n",
      "4     9  10  12  7  8  10   5   6   8     5  ...     12     6     6     8   \n",
      "...  ..  ..  .. .. ..  ..  ..  ..  ..   ...  ...    ...   ...   ...   ...   \n",
      "1074  2   2   2  2  2   2   2   2   2     2  ...      2     2     2     2   \n",
      "1075  2   2   2  2  2   2   2   2   2     2  ...      2     2     2     2   \n",
      "1076  2   2   2  2  2   2   2   2   2     2  ...      2     2     2     2   \n",
      "1077  2   2   2  2  2   2   2   2   2     2  ...      2     2     2     2   \n",
      "1078  2   2   2  2  2   2   2   2   2     2  ...      2     2     2     2   \n",
      "\n",
      "      1.54  1.55  3.71  8.132  8.133  10.160  \n",
      "0        7     7     9      2      2       4  \n",
      "1        5     5     7      0      0       2  \n",
      "2        2     2     4      5      5       7  \n",
      "3        2     2     4     10     10      12  \n",
      "4        2     2     4      2      2       4  \n",
      "...    ...   ...   ...    ...    ...     ...  \n",
      "1074     2     2     2      2      2       2  \n",
      "1075     2     2     2      2      2       2  \n",
      "1076     2     2     2      2      2       2  \n",
      "1077     2     2     2      2      2       2  \n",
      "1078     2     2     2      2      2       2  \n",
      "\n",
      "[1079 rows x 5760 columns]\n",
      "Rows: 1079 Column: 5760\n",
      "Content of the file (excluding last row and col.):\n",
      "       2   3   5  8  9  11  14  15  17  15.1  ...  3.70  5.103  0.84  0.85  \\\n",
      "0     0   1   3  3  4   6   6   7   9     6  ...     5      7     8     8   \n",
      "1     3   4   6  3  4   6   3   4   6     1  ...     2      4     7     7   \n",
      "2     5   6   8  4  5   7   2   3   5     1  ...     2      4     0     0   \n",
      "3     4   5   7  3  4   6   1   2   4     1  ...     9     11     1     1   \n",
      "4     9  10  12  7  8  10   5   6   8     5  ...    10     12     6     6   \n",
      "...  ..  ..  .. .. ..  ..  ..  ..  ..   ...  ...   ...    ...   ...   ...   \n",
      "1073  2   2   2  2  2   2   2   2   2     2  ...     2      2     2     2   \n",
      "1074  2   2   2  2  2   2   2   2   2     2  ...     2      2     2     2   \n",
      "1075  2   2   2  2  2   2   2   2   2     2  ...     2      2     2     2   \n",
      "1076  2   2   2  2  2   2   2   2   2     2  ...     2      2     2     2   \n",
      "1077  2   2   2  2  2   2   2   2   2     2  ...     2      2     2     2   \n",
      "\n",
      "      2.64  1.54  1.55  3.71  8.132  8.133  \n",
      "0       10     7     7     9      2      2  \n",
      "1        9     5     5     7      0      0  \n",
      "2        2     2     2     4      5      5  \n",
      "3        3     2     2     4     10     10  \n",
      "4        8     2     2     4      2      2  \n",
      "...    ...   ...   ...   ...    ...    ...  \n",
      "1073     2     2     2     2      2      2  \n",
      "1074     2     2     2     2      2      2  \n",
      "1075     2     2     2     2      2      2  \n",
      "1076     2     2     2     2      2      2  \n",
      "1077     2     2     2     2      2      2  \n",
      "\n",
      "[1078 rows x 5759 columns]\n",
      "Rows: 1078 Column:5759 \n",
      "Last row and column dropped \n"
     ]
    }
   ],
   "source": [
    "import pandas as pd\n",
    "mydata = pd.read_csv(\"file1.csv\")\n",
    "mydata01 = pd.read_csv(\"file1.csv\")\n",
    "#dropping the last column \n",
    "mydata.pop(mydata.columns[-1])\n",
    "#dropping last row\n",
    "mydata.drop(index=mydata.index[-1], axis=0,inplace=True)\n",
    "print(\"Content of the file(originally):\\n\",mydata01)\n",
    "print(\"Rows: 1079 Column: 5760\")\n",
    "print(\"Content of the file (excluding last row and col.):\\n\",mydata)\n",
    "print(\"Rows: 1078 Column:5759 \\nLast row and column dropped \")"
   ]
  },
  {
   "cell_type": "code",
   "execution_count": 30,
   "id": "3fd4ed47",
   "metadata": {},
   "outputs": [
    {
     "name": "stdout",
     "output_type": "stream",
     "text": [
      "Today's date:\n",
      "2022-08-23 00:00:00\n"
     ]
    }
   ],
   "source": [
    "import pandas as pd\n",
    "from datetime import date\n",
    "now = pd.to_datetime(str(date.today()), format='%Y-%m-%d')\n",
    "print(\"Today's date:\")\n",
    "print(now)\n"
   ]
  },
  {
   "cell_type": "code",
   "execution_count": 31,
   "id": "6a25bd73",
   "metadata": {},
   "outputs": [
    {
     "name": "stdout",
     "output_type": "stream",
     "text": [
      "20 years\n"
     ]
    }
   ],
   "source": [
    "from datetime import date\n",
    " \n",
    "def calculateAge(birthDate,todaydate):\n",
    "    days_in_year = 365\n",
    "    age = int((todaydate - birthDate).days / days_in_year)\n",
    "    return age\n",
    "         \n",
    "print(calculateAge(date(2002, 4, 17),date(2022,8,23)), \"years\")"
   ]
  },
  {
   "cell_type": "code",
   "execution_count": null,
   "id": "25f0968e",
   "metadata": {},
   "outputs": [],
   "source": []
  },
  {
   "cell_type": "code",
   "execution_count": null,
   "id": "ae678c70",
   "metadata": {},
   "outputs": [],
   "source": []
  }
 ],
 "metadata": {
  "kernelspec": {
   "display_name": "Python 3 (ipykernel)",
   "language": "python",
   "name": "python3"
  },
  "language_info": {
   "codemirror_mode": {
    "name": "ipython",
    "version": 3
   },
   "file_extension": ".py",
   "mimetype": "text/x-python",
   "name": "python",
   "nbconvert_exporter": "python",
   "pygments_lexer": "ipython3",
   "version": "3.9.12"
  }
 },
 "nbformat": 4,
 "nbformat_minor": 5
}
