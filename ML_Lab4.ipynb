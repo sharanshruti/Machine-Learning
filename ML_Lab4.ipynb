{
 "cells": [
  {
   "cell_type": "markdown",
   "id": "77a67b99",
   "metadata": {},
   "source": [
    "# Ques 1"
   ]
  },
  {
   "cell_type": "code",
   "execution_count": 7,
   "id": "bb84f12e",
   "metadata": {},
   "outputs": [
    {
     "name": "stdout",
     "output_type": "stream",
     "text": [
      "0.5805263157894749 1.0282456140350869 -0.09298245614035132\n",
      "[1.02824561 1.51578947 1.81736842 1.93298246 1.51578947 1.68982456]\n",
      "0.702719298245614\n"
     ]
    },
    {
     "data": {
      "image/png": "[encoded data removed]",
      "text/plain": [
       "<Figure size 432x288 with 1 Axes>"
      ]
     },
     "metadata": {
      "needs_background": "light"
     },
     "output_type": "display_data"
    }
   ],
   "source": [
    "import random as rd\n",
    "import numpy as np\n",
    "import matplotlib.pyplot as plt\n",
    "X = np.array([0,1,2,3,1,1.5])\n",
    "Y = np.array([1,2,1.5,2,1,2])\n",
    "\n",
    "plt.scatter(X,Y)\n",
    "\n",
    "coeff = np.polyfit(X,Y,2)\n",
    "\n",
    "alpha2 = coeff[0]\n",
    "alpha1 = coeff[1]\n",
    "alpha0 = coeff[2]\n",
    "print(alpha1,alpha0,alpha2)\n",
    "x = np.linspace(0,10,100)\n",
    "plt.scatter(X,Y)\n",
    "plt.plot(x,np.power(x,2)*alpha2+x*alpha1+alpha0)\n",
    "\n",
    "Y_pred = np.power(X,2)*alpha2 + X*alpha1 + alpha0\n",
    "print(Y_pred)\n",
    "\n",
    "sum_square_error = 0\n",
    "\n",
    "for i in range(len(Y)):\n",
    "  sum_square_error += (Y[i]-Y_pred[i])**2\n",
    "\n",
    "print(sum_square_error)"
   ]
  },
  {
   "cell_type": "markdown",
   "id": "183dc09a",
   "metadata": {},
   "source": [
    "# Ques 2"
   ]
  },
  {
   "cell_type": "code",
   "execution_count": 8,
   "id": "e4443a14",
   "metadata": {},
   "outputs": [
    {
     "data": {
      "text/plain": [
       "[1, 1, 2, 1, 2, 2]"
      ]
     },
     "execution_count": 8,
     "metadata": {},
     "output_type": "execute_result"
    }
   ],
   "source": [
    "\n",
    "X = []\n",
    "for i in range(0,6):\n",
    "    n = rd.randint(1,3)\n",
    "    X.append(n)\n",
    "X"
   ]
  },
  {
   "cell_type": "code",
   "execution_count": 9,
   "id": "3a1052cf",
   "metadata": {},
   "outputs": [
    {
     "data": {
      "text/plain": [
       "[2.2, 2.2, 2.7, 2.2, 2.7, 2.7]"
      ]
     },
     "execution_count": 9,
     "metadata": {},
     "output_type": "execute_result"
    }
   ],
   "source": [
    "Y = []\n",
    "for i in range(0,6):\n",
    "    a = 1.7 + 0.5 * X[i]\n",
    "    Y.append(a)\n",
    "Y\n"
   ]
  },
  {
   "cell_type": "code",
   "execution_count": 10,
   "id": "5b35aba5",
   "metadata": {},
   "outputs": [
    {
     "name": "stdout",
     "output_type": "stream",
     "text": [
      "Initial value of Cost function: 6.065\n",
      "New Value of m(1 iteration): 0.07599999999999998\n",
      "New value of c(1 iteration): 0.048999999999999995\n",
      "Value of Cost Function (1 iteration) : 5.275313000000001\n",
      "New Value of m(2 iteration): 0.14672999999999997\n",
      "New value of c(2 iteration): 0.09898\n",
      "Value of Cost Function (2 iteration): 5.3248331536\n",
      "New Value of m(2 iteration): 0.2124241\n",
      "New value of c(2 iteration): 0.14513120000000002\n",
      "Value of Cost Function (3 iteration): 4.5369877564243595\n",
      "Plot for different combination of m and c:\n"
     ]
    },
    {
     "data": {
      "text/plain": [
       "[<matplotlib.lines.Line2D at 0x7fcbbb3edcd0>]"
      ]
     },
     "execution_count": 10,
     "metadata": {},
     "output_type": "execute_result"
    },
    {
     "data": {
      "image/png": "[encoded data removed]",
      "text/plain": [
       "<Figure size 432x288 with 1 Axes>"
      ]
     },
     "metadata": {
      "needs_background": "light"
     },
     "output_type": "display_data"
    }
   ],
   "source": [
    "m=0\n",
    "c=0\n",
    "L=0.01\n",
    "sq = []\n",
    "sq_n = []\n",
    "multi = []\n",
    "for i in range(len(X)):\n",
    "    a = Y[i]**2\n",
    "    sq.append(a)\n",
    "    b = X[i]*Y[i]\n",
    "    multi.append(b)\n",
    "sq_f = sum(sq)\n",
    "multi_f = sum(multi)\n",
    "cost_i = sq_f/(len(Y))\n",
    "print(\"Initial value of Cost function:\",cost_i)\n",
    "D_m = ((-2)*(multi_f))/len(Y)\n",
    "sum_y = sum(Y)\n",
    "D_c = ((-2)*(sum_y))/len(Y)\n",
    "m_n = m-L*D_m\n",
    "c_n = c-L*D_c\n",
    "print(\"New Value of m(1 iteration):\",m_n)\n",
    "print(\"New value of c(1 iteration):\",c_n)\n",
    "for j in range(len(Y)):\n",
    "    c = (Y[j] - (m_n*X[j]+c_n))**2\n",
    "    sq_n.append(c)\n",
    "sq_fn =sum(sq_n)\n",
    "cost_1iter = sq_fn/(len(Y))\n",
    "print(\"Value of Cost Function (1 iteration) :\",cost_1iter)\n",
    "#2nd iteration\n",
    "m=[]\n",
    "for i in range (len(X)):\n",
    "    s = X[i]*(Y[i]-((m_n*X[i])+c_n))\n",
    "    m.append(s)\n",
    "m_f = sum(m)\n",
    "D_m1 = ((-2)*(m_f))/len(Y)\n",
    "s = []\n",
    "for j in range(len(X)):\n",
    "    t = Y[i]-((m_n*X[i])+c_n)\n",
    "    s.append(t)\n",
    "s_f = sum(s)\n",
    "D_c1 = ((-2)*(s_f))/len(Y)\n",
    "m_n1 = m_n - (L*D_m1)\n",
    "c_n1 = c_n - (L*D_c1)\n",
    "print(\"New Value of m(2 iteration):\",m_n1)\n",
    "print(\"New value of c(2 iteration):\",c_n1)\n",
    "sq_n1 =[]\n",
    "for k in range(len(X)):\n",
    "    u = (Y[i]-((m_n1*X[i])+c_n1))**2\n",
    "    sq_n1.append(u)\n",
    "sq_fn1 =sum(sq_n1)\n",
    "cost_2iter = sq_fn1/(len(Y))\n",
    "print(\"Value of Cost Function (2 iteration):\",cost_2iter)\n",
    "#3rd iteration\n",
    "w=[]\n",
    "for i in range (len(X)):\n",
    "    s = X[i]*(Y[i]-((m_n1*X[i])+c_n1))\n",
    "    w.append(s)\n",
    "w_f = sum(w)\n",
    "D_m2 = ((-2)*(w_f))/len(Y)\n",
    "z = []\n",
    "for j in range(len(X)):\n",
    "    t = Y[i]-((m_n1*X[i])+c_n1)\n",
    "    z.append(t)\n",
    "z_f = sum(z)\n",
    "D_c2 = ((-2)*(z_f))/len(Y)\n",
    "m_n2 = m_n1 - (L*D_m2)\n",
    "c_n2 = c_n1 - (L*D_c2)\n",
    "print(\"New Value of m(2 iteration):\",m_n2)\n",
    "print(\"New value of c(2 iteration):\",c_n2)\n",
    "sq_n2 =[]\n",
    "for k in range(len(X)):\n",
    "    u = (Y[i]-((m_n2*X[i])+c_n2))**2\n",
    "    sq_n2.append(u)\n",
    "sq_fn2 =sum(sq_n2)\n",
    "cost_3iter = sq_fn2/(len(Y))\n",
    "print(\"Value of Cost Function (3 iteration):\",cost_3iter)\n",
    "m_v = [m_n,m_n1,m_n2]\n",
    "c_v = [c_n,c_n1,c_n2]\n",
    "print(\"Plot for different combination of m and c:\")\n",
    "plt.plot(m_v,c_v)\n"
   ]
  },
  {
   "cell_type": "markdown",
   "id": "251da710",
   "metadata": {},
   "source": [
    "# Ques 3"
   ]
  },
  {
   "cell_type": "code",
   "execution_count": 11,
   "id": "faea57c0",
   "metadata": {},
   "outputs": [
    {
     "data": {
      "text/html": [
       "<div>\n",
       "<style scoped>\n",
       "    .dataframe tbody tr th:only-of-type {\n",
       "        vertical-align: middle;\n",
       "    }\n",
       "\n",
       "    .dataframe tbody tr th {\n",
       "        vertical-align: top;\n",
       "    }\n",
       "\n",
       "    .dataframe thead th {\n",
       "        text-align: right;\n",
       "    }\n",
       "</style>\n",
       "<table border=\"1\" class=\"dataframe\">\n",
       "  <thead>\n",
       "    <tr style=\"text-align: right;\">\n",
       "      <th></th>\n",
       "      <th>Pregnancies</th>\n",
       "      <th>Glucose</th>\n",
       "      <th>BloodPressure</th>\n",
       "      <th>SkinThickness</th>\n",
       "      <th>Insulin</th>\n",
       "      <th>BMI</th>\n",
       "      <th>DiabetesPedigreeFunction</th>\n",
       "      <th>Age</th>\n",
       "      <th>Outcome</th>\n",
       "    </tr>\n",
       "  </thead>\n",
       "  <tbody>\n",
       "    <tr>\n",
       "      <th>count</th>\n",
       "      <td>768.000000</td>\n",
       "      <td>768.000000</td>\n",
       "      <td>768.000000</td>\n",
       "      <td>768.000000</td>\n",
       "      <td>768.000000</td>\n",
       "      <td>768.000000</td>\n",
       "      <td>768.000000</td>\n",
       "      <td>768.000000</td>\n",
       "      <td>768.000000</td>\n",
       "    </tr>\n",
       "    <tr>\n",
       "      <th>mean</th>\n",
       "      <td>3.845052</td>\n",
       "      <td>120.894531</td>\n",
       "      <td>69.105469</td>\n",
       "      <td>20.536458</td>\n",
       "      <td>79.799479</td>\n",
       "      <td>31.992578</td>\n",
       "      <td>0.471876</td>\n",
       "      <td>33.240885</td>\n",
       "      <td>0.348958</td>\n",
       "    </tr>\n",
       "    <tr>\n",
       "      <th>std</th>\n",
       "      <td>3.369578</td>\n",
       "      <td>31.972618</td>\n",
       "      <td>19.355807</td>\n",
       "      <td>15.952218</td>\n",
       "      <td>115.244002</td>\n",
       "      <td>7.884160</td>\n",
       "      <td>0.331329</td>\n",
       "      <td>11.760232</td>\n",
       "      <td>0.476951</td>\n",
       "    </tr>\n",
       "    <tr>\n",
       "      <th>min</th>\n",
       "      <td>0.000000</td>\n",
       "      <td>0.000000</td>\n",
       "      <td>0.000000</td>\n",
       "      <td>0.000000</td>\n",
       "      <td>0.000000</td>\n",
       "      <td>0.000000</td>\n",
       "      <td>0.078000</td>\n",
       "      <td>21.000000</td>\n",
       "      <td>0.000000</td>\n",
       "    </tr>\n",
       "    <tr>\n",
       "      <th>25%</th>\n",
       "      <td>1.000000</td>\n",
       "      <td>99.000000</td>\n",
       "      <td>62.000000</td>\n",
       "      <td>0.000000</td>\n",
       "      <td>0.000000</td>\n",
       "      <td>27.300000</td>\n",
       "      <td>0.243750</td>\n",
       "      <td>24.000000</td>\n",
       "      <td>0.000000</td>\n",
       "    </tr>\n",
       "    <tr>\n",
       "      <th>50%</th>\n",
       "      <td>3.000000</td>\n",
       "      <td>117.000000</td>\n",
       "      <td>72.000000</td>\n",
       "      <td>23.000000</td>\n",
       "      <td>30.500000</td>\n",
       "      <td>32.000000</td>\n",
       "      <td>0.372500</td>\n",
       "      <td>29.000000</td>\n",
       "      <td>0.000000</td>\n",
       "    </tr>\n",
       "    <tr>\n",
       "      <th>75%</th>\n",
       "      <td>6.000000</td>\n",
       "      <td>140.250000</td>\n",
       "      <td>80.000000</td>\n",
       "      <td>32.000000</td>\n",
       "      <td>127.250000</td>\n",
       "      <td>36.600000</td>\n",
       "      <td>0.626250</td>\n",
       "      <td>41.000000</td>\n",
       "      <td>1.000000</td>\n",
       "    </tr>\n",
       "    <tr>\n",
       "      <th>max</th>\n",
       "      <td>17.000000</td>\n",
       "      <td>199.000000</td>\n",
       "      <td>122.000000</td>\n",
       "      <td>99.000000</td>\n",
       "      <td>846.000000</td>\n",
       "      <td>67.100000</td>\n",
       "      <td>2.420000</td>\n",
       "      <td>81.000000</td>\n",
       "      <td>1.000000</td>\n",
       "    </tr>\n",
       "  </tbody>\n",
       "</table>\n",
       "</div>"
      ],
      "text/plain": [
       "       Pregnancies     Glucose  BloodPressure  SkinThickness     Insulin  \\\n",
       "count   768.000000  768.000000     768.000000     768.000000  768.000000   \n",
       "mean      3.845052  120.894531      69.105469      20.536458   79.799479   \n",
       "std       3.369578   31.972618      19.355807      15.952218  115.244002   \n",
       "min       0.000000    0.000000       0.000000       0.000000    0.000000   \n",
       "25%       1.000000   99.000000      62.000000       0.000000    0.000000   \n",
       "50%       3.000000  117.000000      72.000000      23.000000   30.500000   \n",
       "75%       6.000000  140.250000      80.000000      32.000000  127.250000   \n",
       "max      17.000000  199.000000     122.000000      99.000000  846.000000   \n",
       "\n",
       "              BMI  DiabetesPedigreeFunction         Age     Outcome  \n",
       "count  768.000000                768.000000  768.000000  768.000000  \n",
       "mean    31.992578                  0.471876   33.240885    0.348958  \n",
       "std      7.884160                  0.331329   11.760232    0.476951  \n",
       "min      0.000000                  0.078000   21.000000    0.000000  \n",
       "25%     27.300000                  0.243750   24.000000    0.000000  \n",
       "50%     32.000000                  0.372500   29.000000    0.000000  \n",
       "75%     36.600000                  0.626250   41.000000    1.000000  \n",
       "max     67.100000                  2.420000   81.000000    1.000000  "
      ]
     },
     "execution_count": 11,
     "metadata": {},
     "output_type": "execute_result"
    }
   ],
   "source": [
    "import pandas as pd\n",
    "from sklearn.model_selection import train_test_split, cross_validate\n",
    "from sklearn.linear_model import LogisticRegression\n",
    "import csv\n",
    "df = pd.read_csv('diabetes.csv')\n",
    "df.describe()"
   ]
  },
  {
   "cell_type": "code",
   "execution_count": 12,
   "id": "edccafc0",
   "metadata": {},
   "outputs": [
    {
     "name": "stderr",
     "output_type": "stream",
     "text": [
      "/Users/shrutis/opt/anaconda3/lib/python3.9/site-packages/sklearn/linear_model/_logistic.py:814: ConvergenceWarning: lbfgs failed to converge (status=1):\n",
      "STOP: TOTAL NO. of ITERATIONS REACHED LIMIT.\n",
      "\n",
      "Increase the number of iterations (max_iter) or scale the data as shown in:\n",
      "    https://scikit-learn.org/stable/modules/preprocessing.html\n",
      "Please also refer to the documentation for alternative solver options:\n",
      "    https://scikit-learn.org/stable/modules/linear_model.html#logistic-regression\n",
      "  n_iter_i = _check_optimize_result(\n"
     ]
    },
    {
     "data": {
      "text/plain": [
       "LogisticRegression()"
      ]
     },
     "execution_count": 12,
     "metadata": {},
     "output_type": "execute_result"
    }
   ],
   "source": [
    "lr = LogisticRegression()\n",
    "X = df.iloc[ : , :8 ]\n",
    "y = df['Outcome']\n",
    "X_train, X_test, y_train, y_test = train_test_split(X,y,test_size=0.2)\n",
    "lr.fit(X_train,y_train)"
   ]
  },
  {
   "cell_type": "code",
   "execution_count": 13,
   "id": "fb56ac38",
   "metadata": {},
   "outputs": [
    {
     "name": "stderr",
     "output_type": "stream",
     "text": [
      "/Users/shrutis/opt/anaconda3/lib/python3.9/site-packages/sklearn/linear_model/_logistic.py:814: ConvergenceWarning: lbfgs failed to converge (status=1):\n",
      "STOP: TOTAL NO. of ITERATIONS REACHED LIMIT.\n",
      "\n",
      "Increase the number of iterations (max_iter) or scale the data as shown in:\n",
      "    https://scikit-learn.org/stable/modules/preprocessing.html\n",
      "Please also refer to the documentation for alternative solver options:\n",
      "    https://scikit-learn.org/stable/modules/linear_model.html#logistic-regression\n",
      "  n_iter_i = _check_optimize_result(\n",
      "/Users/shrutis/opt/anaconda3/lib/python3.9/site-packages/sklearn/linear_model/_logistic.py:814: ConvergenceWarning: lbfgs failed to converge (status=1):\n",
      "STOP: TOTAL NO. of ITERATIONS REACHED LIMIT.\n",
      "\n",
      "Increase the number of iterations (max_iter) or scale the data as shown in:\n",
      "    https://scikit-learn.org/stable/modules/preprocessing.html\n",
      "Please also refer to the documentation for alternative solver options:\n",
      "    https://scikit-learn.org/stable/modules/linear_model.html#logistic-regression\n",
      "  n_iter_i = _check_optimize_result(\n",
      "/Users/shrutis/opt/anaconda3/lib/python3.9/site-packages/sklearn/linear_model/_logistic.py:814: ConvergenceWarning: lbfgs failed to converge (status=1):\n",
      "STOP: TOTAL NO. of ITERATIONS REACHED LIMIT.\n",
      "\n",
      "Increase the number of iterations (max_iter) or scale the data as shown in:\n",
      "    https://scikit-learn.org/stable/modules/preprocessing.html\n",
      "Please also refer to the documentation for alternative solver options:\n",
      "    https://scikit-learn.org/stable/modules/linear_model.html#logistic-regression\n",
      "  n_iter_i = _check_optimize_result(\n",
      "/Users/shrutis/opt/anaconda3/lib/python3.9/site-packages/sklearn/linear_model/_logistic.py:814: ConvergenceWarning: lbfgs failed to converge (status=1):\n",
      "STOP: TOTAL NO. of ITERATIONS REACHED LIMIT.\n",
      "\n",
      "Increase the number of iterations (max_iter) or scale the data as shown in:\n",
      "    https://scikit-learn.org/stable/modules/preprocessing.html\n",
      "Please also refer to the documentation for alternative solver options:\n",
      "    https://scikit-learn.org/stable/modules/linear_model.html#logistic-regression\n",
      "  n_iter_i = _check_optimize_result(\n"
     ]
    }
   ],
   "source": [
    "val_X = df.iloc[:77,:8]\n",
    "val_y = df.iloc[:77, 8]\n",
    "results = cross_validate(estimator=lr, X=val_X, y=val_y, cv = 5)"
   ]
  },
  {
   "cell_type": "code",
   "execution_count": 14,
   "id": "87ecc460",
   "metadata": {},
   "outputs": [
    {
     "name": "stdout",
     "output_type": "stream",
     "text": [
      "{'fit_time': array([0.04235172, 0.03462911, 0.0220542 , 0.01571512, 0.01648283]), 'score_time': array([0.00244713, 0.00175786, 0.00121284, 0.00162601, 0.00122786]), 'test_score': array([0.625 , 0.4375, 0.6   , 0.6   , 0.6   ])}\n"
     ]
    }
   ],
   "source": [
    "print(results)"
   ]
  },
  {
   "cell_type": "code",
   "execution_count": null,
   "id": "5a8a5ccc",
   "metadata": {},
   "outputs": [],
   "source": []
  },
  {
   "cell_type": "code",
   "execution_count": null,
   "id": "498c0961",
   "metadata": {},
   "outputs": [],
   "source": []
  }
 ],
 "metadata": {
  "kernelspec": {
   "display_name": "Python 3 (ipykernel)",
   "language": "python",
   "name": "python3"
  },
  "language_info": {
   "codemirror_mode": {
    "name": "ipython",
    "version": 3
   },
   "file_extension": ".py",
   "mimetype": "text/x-python",
   "name": "python",
   "nbconvert_exporter": "python",
   "pygments_lexer": "ipython3",
   "version": "3.9.12"
  }
 },
 "nbformat": 4,
 "nbformat_minor": 5
}
