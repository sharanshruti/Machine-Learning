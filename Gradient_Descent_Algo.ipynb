{
 "cells": [
  {
   "cell_type": "code",
   "execution_count": 8,
   "id": "3665d693",
   "metadata": {},
   "outputs": [
    {
     "name": "stdout",
     "output_type": "stream",
     "text": [
      "Initial value of Error function: 54.1\n",
      "-77.8\n",
      "-13.0\n",
      "New Value of m(1 iteration): 0.778\n",
      "New value of c(1 iteration): 0.13\n",
      "Value of Error Function : 10.059353999999999\n"
     ]
    }
   ],
   "source": [
    "#gradient descent algorithm implementation\n",
    "\n",
    "X = [0,1,2,3,4,5,6,7,8,9]\n",
    "Y = [1,3,2,5,7,8,8,9,10,12]\n",
    "m=0\n",
    "c=0\n",
    "L=0.01\n",
    "sq = []\n",
    "sq_n = []\n",
    "multi = []\n",
    "for i in range(len(X)):\n",
    "    a = Y[i]**2\n",
    "    sq.append(a)\n",
    "    b = X[i]*Y[i]\n",
    "    multi.append(b)\n",
    "sq_f = sum(sq)\n",
    "multi_f = sum(multi)\n",
    "MSE_i = sq_f/(len(Y))\n",
    "print(\"Initial value of Error function:\",MSE_i)\n",
    "D_m = ((-2)*(multi_f))/len(Y)\n",
    "print(D_m)\n",
    "sum_y = sum(Y)\n",
    "D_c = ((-2)*(sum_y))/len(Y)\n",
    "print(D_c)\n",
    "m_n = m-L*D_m\n",
    "c_n = c-L*D_c\n",
    "print(\"New Value of m(1 iteration):\",m_n)\n",
    "print(\"New value of c(1 iteration):\",c_n)\n",
    "for j in range(len(Y)):\n",
    "    c = (Y[j] - (m_n*X[j]+c_n))**2\n",
    "    sq_n.append(c)\n",
    "sq_fn =sum(sq_n)\n",
    "MSE_1iter = sq_fn/(len(Y))\n",
    "print(\"Value of Error Function :\",MSE_1iter)\n",
    "\n"
   ]
  },
  {
   "cell_type": "code",
   "execution_count": null,
   "id": "ee82d54b",
   "metadata": {},
   "outputs": [],
   "source": []
  }
 ],
 "metadata": {
  "kernelspec": {
   "display_name": "Python 3 (ipykernel)",
   "language": "python",
   "name": "python3"
  },
  "language_info": {
   "codemirror_mode": {
    "name": "ipython",
    "version": 3
   },
   "file_extension": ".py",
   "mimetype": "text/x-python",
   "name": "python",
   "nbconvert_exporter": "python",
   "pygments_lexer": "ipython3",
   "version": "3.9.12"
  }
 },
 "nbformat": 4,
 "nbformat_minor": 5
}
